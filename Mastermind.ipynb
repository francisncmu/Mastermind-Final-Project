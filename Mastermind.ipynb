{
  "nbformat": 4,
  "nbformat_minor": 0,
  "metadata": {
    "colab": {
      "name": "Mastermind.ipynb",
      "provenance": []
    },
    "kernelspec": {
      "name": "python3",
      "display_name": "Python 3"
    }
  },
  "cells": [
    {
      "cell_type": "markdown",
      "metadata": {
        "id": "L5K9oOXrra0L"
      },
      "source": [
        "### Mastermind Final Project\r\n",
        "By Francis Ng\r\n",
        "\r\n",
        "Note: all code here is approximately the same as the python documents so you can run it anywhere you want. The only differences are this document comes with more explicit instructions, some code is changed to fit the style of a jupyter notebook, and the Solve class doesn't have the multisolveAll class (which was mainly used to get results)"
      ]
    },
    {
      "cell_type": "code",
      "metadata": {
        "id": "6ybL4wQXKzVO"
      },
      "source": [
        "import numpy as np\r\n",
        "import random as rand"
      ],
      "execution_count": 1,
      "outputs": []
    },
    {
      "cell_type": "markdown",
      "metadata": {
        "id": "Xghi-XW-p-zV"
      },
      "source": [
        "### Game Class\r\n",
        "This is the actual mastermind game itself. I initially called it \"Game\" generically because I wanted to be able to build other games on top of this module, but ran out of time.\r\n",
        "\r\n",
        "This part of the code isn't as important, but it essentially allows you to play mastermind! To give it a shot, simply create a game like Game() to start a default game. You can specify how many colors, guesses, and pegs you will play with total.\r\n",
        "\r\n",
        "For each game object, simply input game.guess(your_guess_as_a_tuple) to guess and it'll display the board back to you. The board stays updated so don't worry about losing it. If you need, you can use game.cheat() to sneakily find the answer to the board."
      ]
    },
    {
      "cell_type": "code",
      "metadata": {
        "id": "07bOfc6eK38j"
      },
      "source": [
        "import random as rand\r\n",
        "import numpy as np\r\n",
        "\r\n",
        "class Game:\r\n",
        "\tdef __init__(self, code = None, colors=6, pegs=4, total_guesses=10, silent=False):\r\n",
        "\t\tif not silent:\r\n",
        "\t\t\tprint(\"Starting new game with\", colors, \"colors,\", pegs,\" pegs, and \", total_guesses, \"total guesses allowed\")\r\n",
        "\t\tif code == None:\r\n",
        "\t\t\tself.answer = []\r\n",
        "\t\t\tfor i in range(pegs):\r\n",
        "\t\t\t\tself.answer.append(rand.randrange(colors))\r\n",
        "\t\telse:\r\n",
        "\t\t\tassert len(code) == pegs, \"Code incorrect length!\"\r\n",
        "\t\t\tself.answer = code\r\n",
        "\r\n",
        "\t\tself.board = []\r\n",
        "\t\tself.guesses = []\r\n",
        "\t\tself.solved = False\r\n",
        "\t\tself.failed = False\r\n",
        "\t\tself.silent = silent\r\n",
        "\t\tself.pegs = pegs\r\n",
        "\t\tself.colors = colors\r\n",
        "\r\n",
        "\t\tself.total_guesses = total_guesses\r\n",
        "\r\n",
        "\tdef guess(self, *guesses):\r\n",
        "\t\tif self.solved:\r\n",
        "\t\t\tprint(\"Already solved!\")\r\n",
        "\t\t\treturn\r\n",
        "\t\telif self.failed:\r\n",
        "\t\t\tprint(\"Sorry, you lost :(\")\r\n",
        "\t\t\treturn\r\n",
        "\t\tassert self.pegs == len(guesses)\r\n",
        "\t\ttotal_guesses = self.total_guesses\r\n",
        "\t\txs = 0\r\n",
        "\t\tos = 0\r\n",
        "\r\n",
        "\t\tleftover_c = []\r\n",
        "\t\tleftover_g = []\r\n",
        "\t\tfor i in range(self.pegs):\r\n",
        "\t\t\tif self.answer[i] == guesses[i]:\r\n",
        "\t\t\t\tos = os+1\r\n",
        "\t\t\telse:\r\n",
        "\t\t\t\tleftover_c.append(self.answer[i])\r\n",
        "\t\t\t\tleftover_g.append(guesses[i])\r\n",
        "\t\tfor g in leftover_g:\r\n",
        "\t\t\texists = False\r\n",
        "\t\t\tfor c in leftover_c:\r\n",
        "\t\t\t\tif g == c:\r\n",
        "\t\t\t\t\texists = True\r\n",
        "\t\t\tif exists:\r\n",
        "\t\t\t\txs = xs+1\r\n",
        "\t\t\t\tleftover_c.remove(c)\r\n",
        "\r\n",
        "\t\tassert xs+os < (self.pegs+1), \"What happened??\"\r\n",
        "\t\troundguess = []\r\n",
        "\t\tfor i in range(os):\r\n",
        "\t\t\troundguess.append(\"o\")\r\n",
        "\t\tfor i in range(xs):\r\n",
        "\t\t\troundguess.append(\"x\")\r\n",
        "\t\tfor i in range(self.pegs-os-xs):\r\n",
        "\t\t\troundguess.append(\"_\")\r\n",
        "\t\tself.guesses.append(guesses)\r\n",
        "\t\tself.board.append(roundguess)\r\n",
        "\r\n",
        "\t\tif not self.silent:\r\n",
        "\t\t\tself.display_board()\r\n",
        "\r\n",
        "\t\twin = True\r\n",
        "\t\tfor i in roundguess:\r\n",
        "\t\t\tif i != \"o\":\r\n",
        "\t\t\t\twin = False\r\n",
        "\t\tif win:\r\n",
        "\t\t\tif not self.silent:\r\n",
        "\t\t\t\tprint(\"Congrats you win!\")\r\n",
        "\t\t\tself.solved = True\r\n",
        "\t\telif len(self.guesses) == self.total_guesses:\r\n",
        "\t\t\tif not self.silent:\r\n",
        "\t\t\t\tprint(\"Game over, the correct answer was \", self.answer)\r\n",
        "\t\t\tself.failed = True\r\n",
        "\r\n",
        "\t\treturn os, xs\r\n",
        "\r\n",
        "\tdef rounds(self):\r\n",
        "\t\treturn len(self.guesses)\r\n",
        "\r\n",
        "\tdef cheat(self):\r\n",
        "\t\treturn self.answer\r\n",
        "\r\n",
        "\tdef display_board(self):\r\n",
        "\t\tprint(\"Board:\")\r\n",
        "\t\tfor i in np.arange(self.total_guesses):\r\n",
        "\t\t\tif i <= (len(self.board)-1):\r\n",
        "\t\t\t\tstart = \"|\"\r\n",
        "\t\t\t\tfor z in range(self.pegs):\r\n",
        "\t\t\t\t\tstart = start + \" \" + str(self.guesses[i][z])\r\n",
        "\t\t\t\tstart = start + \" |\"\r\n",
        "\t\t\t\tfor z in range(self.pegs):\r\n",
        "\t\t\t\t\tstart = start + \" \" + str(self.board[i][z])\r\n",
        "\t\t\t\tstart = start + \" |\"\r\n",
        "\t\t\t\tprint(start)\r\n",
        "\t\t\telse:\r\n",
        "\t\t\t\tstart = \"|\"\r\n",
        "\t\t\t\tfor z in range(self.pegs):\r\n",
        "\t\t\t\t\tstart = start + \" _ \"\r\n",
        "\t\t\t\tstart = start + \" |\"\r\n",
        "\t\t\t\tfor z in range(self.pegs):\r\n",
        "\t\t\t\t\tstart = start + \" _ \"\r\n",
        "\t\t\t\tstart = start + \" |\"\r\n",
        "\t\t\t\tprint(start)"
      ],
      "execution_count": 2,
      "outputs": []
    },
    {
      "cell_type": "markdown",
      "metadata": {
        "id": "9uh-8Kxxn89v"
      },
      "source": [
        "### Solver Class\r\n",
        "Note: Hardcoded varying peg numbers\r\n",
        "\r\n",
        "To use: specify how many colors (infinite amounts) and pegs (ranging from 4 to 6) you want to use as Solver(pegs=x, colors=y).\r\n",
        "To use the solver, simply use the Solver.solve(game) method and feed it a \"Game\" class object to have it solve it! More details on how it solves in writeup.\r\n",
        "\r\n",
        "Use Solver.multisolve(x) to have the solver take on x number of games for default settings (can go upwards of 10,000 at a decent speed but not very optimized so it's not recommended to go higher unless you have time). Any higher amount of games / pegs / colors will take a long time so please use with discretion.\r\n",
        "\r\n",
        "For solve and multisolve, there are counterparts solveF and multisolverF, which also take in a first guess for every attempt! Try it out with the first guess as [0, 0, 1, 1]!"
      ]
    },
    {
      "cell_type": "code",
      "metadata": {
        "id": "_KdcEMTBK7ZB"
      },
      "source": [
        "class Solver:\r\n",
        "\tdef __init__(self, pegs=4, colors=6):\r\n",
        "\t\thypotheses = []\r\n",
        "\t\tif pegs == 4:\r\n",
        "\t\t\tfor i in range(colors):\r\n",
        "\t\t\t\tfor j in range(colors):\r\n",
        "\t\t\t\t\tfor k in range(colors):\r\n",
        "\t\t\t\t\t\tfor l in range(colors):\r\n",
        "\t\t\t\t\t\t\thypotheses.append(([i, j, k, l], 1/(pow(4, colors))))\r\n",
        "\t\telif pegs == 5:\r\n",
        "\t\t\tfor i in range(colors):\r\n",
        "\t\t\t\tfor j in range(colors):\r\n",
        "\t\t\t\t\tfor k in range(colors):\r\n",
        "\t\t\t\t\t\tfor l in range(colors):\r\n",
        "\t\t\t\t\t\t\tfor h in range(colors):\r\n",
        "\t\t\t\t\t\t\t\thypotheses.append(([i, j, k, l, h], 1/(pow(5, colors))))\r\n",
        "\t\telif pegs == 6:\r\n",
        "\t\t\tfor i in range(colors):\r\n",
        "\t\t\t\tfor j in range(colors):\r\n",
        "\t\t\t\t\tfor k in range(colors):\r\n",
        "\t\t\t\t\t\tfor l in range(colors):\r\n",
        "\t\t\t\t\t\t\tfor h in range(colors):\r\n",
        "\t\t\t\t\t\t\t\tfor y in range(colors):\r\n",
        "\t\t\t\t\t\t\t\t\thypotheses.append(([i, j, k, l, h, y], 1/(pow(6, colors))))\r\n",
        "\t\tself.pegs = pegs\r\n",
        "\t\tself.hypotheses = hypotheses\r\n",
        "\t\tself.colors = colors\r\n",
        "\r\n",
        "\tdef guess(self, game, red=1/4, white=3/16, force=None):\r\n",
        "\t\tassert self.pegs == game.pegs, \"Different amount of pegs\"\r\n",
        "\t\tassert self.colors == game.colors, \"Different amount of colors\"\r\n",
        "\t\tmax_prob = 0\r\n",
        "\t\tmax_hypotheses = []\r\n",
        "\t\tfor h, p in self.hypotheses:\r\n",
        "\t\t\tif max_prob < p:\r\n",
        "\t\t\t\tmax_prob = p\r\n",
        "\t\t\t\tmax_hypotheses = [h]\r\n",
        "\t\t\telif max_prob == p:\r\n",
        "\t\t\t\tmax_hypotheses.append(h)\r\n",
        "\t\tif force == None:\r\n",
        "\t\t\tchoice = rand.choice(max_hypotheses) #chooses one of the choices with the highest hypotheses chance\r\n",
        "\t\telse:\r\n",
        "\t\t\tchoice = force #Forces a specific guess in the form of a list\r\n",
        "\t\tos, xs = game.guess(*choice)\r\n",
        "\t\tnew_hypotheses = []\r\n",
        "\t\tfor h, chance in self.hypotheses:\r\n",
        "\t\t\toc = 0\r\n",
        "\t\t\txc = 0\r\n",
        "\t\t\tleftover_c = []\r\n",
        "\t\t\tleftover_g = []\r\n",
        "\r\n",
        "\t\t\tif choice == h:\r\n",
        "\t\t\t\tnew_hypotheses = new_hypotheses #filler\r\n",
        "\t\t\telse:\r\n",
        "\t\t\t\tfor i in range(len(choice)):\r\n",
        "\t\t\t\t\tif h[i] == choice[i]:\r\n",
        "\t\t\t\t\t\toc = oc+1\r\n",
        "\t\t\t\t\telse:\r\n",
        "\t\t\t\t\t\tleftover_c.append(h[i])\r\n",
        "\t\t\t\t\t\tleftover_g.append(choice[i])\r\n",
        "\r\n",
        "\t\t\t\tfor g in leftover_g:\r\n",
        "\t\t\t\t\texists = False\r\n",
        "\t\t\t\t\tfor c in leftover_c:\r\n",
        "\t\t\t\t\t\tif g == c:\r\n",
        "\t\t\t\t\t\t\texists = True\r\n",
        "\t\t\t\t\tif exists:\r\n",
        "\t\t\t\t\t\txc = xc+1\r\n",
        "\t\t\t\t\t\tleftover_c.remove(c)\r\n",
        "\t\t\t\tif oc == os and xs == xc:\r\n",
        "\t\t\t\t\tnew_hypotheses.append((h, ((oc*red) + (xs*white))))#Red and White are changeable parameters\r\n",
        "\t\tself.hypotheses = new_hypotheses\r\n",
        "\r\n",
        "\tdef reset(self):\r\n",
        "\t\tcolors = self.colors\r\n",
        "\t\tpegs = self.pegs\r\n",
        "\t\thypotheses = []\r\n",
        "\t\tif pegs == 4:\r\n",
        "\t\t\tfor i in range(colors):\r\n",
        "\t\t\t\tfor j in range(colors):\r\n",
        "\t\t\t\t\tfor k in range(colors):\r\n",
        "\t\t\t\t\t\tfor l in range(colors):\r\n",
        "\t\t\t\t\t\t\thypotheses.append(([i, j, k, l], 1/(pow(4, colors))))\r\n",
        "\t\telif pegs == 5:\r\n",
        "\t\t\tfor i in range(colors):\r\n",
        "\t\t\t\tfor j in range(colors):\r\n",
        "\t\t\t\t\tfor k in range(colors):\r\n",
        "\t\t\t\t\t\tfor l in range(colors):\r\n",
        "\t\t\t\t\t\t\tfor h in range(colors):\r\n",
        "\t\t\t\t\t\t\t\thypotheses.append(([i, j, k, l, h], 1/(pow(5, colors))))\r\n",
        "\t\telif pegs == 6:\r\n",
        "\t\t\tfor i in range(colors):\r\n",
        "\t\t\t\tfor j in range(colors):\r\n",
        "\t\t\t\t\tfor k in range(colors):\r\n",
        "\t\t\t\t\t\tfor l in range(colors):\r\n",
        "\t\t\t\t\t\t\tfor h in range(colors):\r\n",
        "\t\t\t\t\t\t\t\tfor y in range(colors):\r\n",
        "\t\t\t\t\t\t\t\t\thypotheses.append(([i, j, k, l, h, y], 1/(pow(6, colors))))\r\n",
        "\t\tself.hypotheses = hypotheses\r\n",
        "\r\n",
        "\tdef solve(self, game, hush=False): #Basic Solving Technique\r\n",
        "\t\tself.reset()\r\n",
        "\t\twhile game.solved == False and game.failed == False:\r\n",
        "\t\t\tself.guess(game)\r\n",
        "\t\tif game.solved==True:\r\n",
        "\t\t\tif not hush:\t\r\n",
        "\t\t\t\tprint(\"Solved in\", game.rounds(), \"turns.\")\r\n",
        "\t\t\treturn True, game\r\n",
        "\t\telse:\r\n",
        "\t\t\tif not hush:\r\n",
        "\t\t\t\tprint(\"Whoops we lost\")\r\n",
        "\t\t\treturn False, game\r\n",
        "\r\n",
        "\tdef solveF(self, game, firstGuess, hush=False): #Basic Solving Technique\r\n",
        "\t\tself.reset()\r\n",
        "\t\tself.guess(game, force=firstGuess)\r\n",
        "\t\twhile game.solved == False and game.failed == False:\r\n",
        "\t\t\tself.guess(game)\r\n",
        "\t\tif game.solved==True:\r\n",
        "\t\t\tif not hush:\t\r\n",
        "\t\t\t\tprint(\"Solved in\", game.rounds(), \"turns.\")\r\n",
        "\t\t\treturn True, game\r\n",
        "\t\telse:\r\n",
        "\t\t\tif not hush:\r\n",
        "\t\t\t\tprint(\"Whoops we lost\")\r\n",
        "\t\t\treturn False, game\r\n",
        "\r\n",
        "\tdef multisolve(self, games):\r\n",
        "\t\twins = []\r\n",
        "\t\tlosses = 0\r\n",
        "\t\tcodes = []\r\n",
        "\t\tmost = 0\r\n",
        "\t\tleast = 10\r\n",
        "\t\tfor i in range(games):\r\n",
        "\t\t\tg = Game(colors = self.colors, pegs=self.pegs, silent=True)\r\n",
        "\t\t\twin, game = self.solve(g, hush=True)\r\n",
        "\t\t\tguesses = game.rounds()\r\n",
        "\t\t\tanswer = game.cheat()\r\n",
        "\t\t\tif guesses < least:\r\n",
        "\t\t\t\tleast = guesses\r\n",
        "\t\t\t\tleast_g = answer\r\n",
        "\t\t\tif guesses > most:\r\n",
        "\t\t\t\tmost = guesses\r\n",
        "\t\t\t\tmost_g = answer\r\n",
        "\t\t\tif win:\r\n",
        "\t\t\t\twins.append(guesses)\r\n",
        "\t\t\telse:\r\n",
        "\t\t\t\tgame.display_board()\r\n",
        "\t\t\t\tlosses = losses + 1\r\n",
        "\t\t\t\tcodes.append(answer)\r\n",
        "\r\n",
        "\t\tprint(\"Won\", len(wins), \"number of times with an average of: \", sum(wins)/len(wins), \"rounds played.\")\r\n",
        "\t\tprint(\"The game that took the most guesses was\", most, \"with the code\", most_g)\r\n",
        "\t\tprint(\"The game that took the least guesses was\", least, \"with the code\", least_g)\r\n",
        "\t\tprint(\"Lost\", losses, \"number of times to these codes:\", codes)\r\n",
        "\t\treturn codes\r\n",
        "\r\n",
        "\tdef multisolveF(self, firstGuess, games):\r\n",
        "\t\twins = []\r\n",
        "\t\tlosses = 0\r\n",
        "\t\tcodes = []\r\n",
        "\t\tmost = 0\r\n",
        "\t\tleast = 10\r\n",
        "\t\tfor i in range(games):\r\n",
        "\t\t\tg = Game(colors = self.colors, pegs=self.pegs, silent=True)\r\n",
        "\t\t\twin, game = self.solveF(g, firstGuess, hush=True)\r\n",
        "\t\t\tguesses = game.rounds()\r\n",
        "\t\t\tanswer = game.cheat()\r\n",
        "\t\t\tif guesses < least:\r\n",
        "\t\t\t\tleast = guesses\r\n",
        "\t\t\t\tleast_g = answer\r\n",
        "\t\t\tif guesses > most:\r\n",
        "\t\t\t\tmost = guesses\r\n",
        "\t\t\t\tmost_g = answer\r\n",
        "\t\t\tif win:\r\n",
        "\t\t\t\twins.append(guesses)\r\n",
        "\t\t\telse:\r\n",
        "\t\t\t\tgame.display_board()\r\n",
        "\t\t\t\tlosses = losses + 1\r\n",
        "\t\t\t\tcodes.append(answer)\r\n",
        "\r\n",
        "\t\tprint(\"Won\", len(wins), \"number of times with an average of: \", sum(wins)/len(wins), \"rounds played.\")\r\n",
        "\t\tprint(\"The game that took the most guesses was\", most, \"with the code\", most_g)\r\n",
        "\t\tprint(\"The game that took the least guesses was\", least, \"with the code\", least_g)\r\n",
        "\t\tprint(\"Lost\", losses, \"number of times to these codes:\", codes)\r\n",
        "\t\treturn codes"
      ],
      "execution_count": 14,
      "outputs": []
    },
    {
      "cell_type": "markdown",
      "metadata": {
        "id": "JTmpCNsGrDa_"
      },
      "source": [
        "### Testing\r\n",
        "Feel free to test out any part of the code here. A template of how everything runs is provided."
      ]
    },
    {
      "cell_type": "code",
      "metadata": {
        "colab": {
          "base_uri": "https://localhost:8080/"
        },
        "id": "y_NQ5T7YLPub",
        "outputId": "3febcdd3-9a5d-4690-b595-21105e2c24fa"
      },
      "source": [
        "g1 = Game(code=[4, 2, 3, 5])"
      ],
      "execution_count": 4,
      "outputs": [
        {
          "output_type": "stream",
          "text": [
            "Starting new game with 6 colors, 4  pegs, and  10 total guesses allowed\n"
          ],
          "name": "stdout"
        }
      ]
    },
    {
      "cell_type": "code",
      "metadata": {
        "id": "WT-JYzJ7LZha"
      },
      "source": [
        "s = Solver() #default solver"
      ],
      "execution_count": 15,
      "outputs": []
    },
    {
      "cell_type": "code",
      "metadata": {
        "colab": {
          "base_uri": "https://localhost:8080/"
        },
        "id": "Kezc7oHGLbjD",
        "outputId": "0cce6395-53c1-4f1e-cd54-98af9d3991d4"
      },
      "source": [
        "g1.guess(0, 0, 1, 1)\r\n",
        "g1.guess(2, 2, 3, 3)\r\n",
        "g1.guess(4, 4, 5, 5)"
      ],
      "execution_count": 6,
      "outputs": [
        {
          "output_type": "stream",
          "text": [
            "Board:\n",
            "| 0 0 1 1 | _ _ _ _ |\n",
            "| _  _  _  _  | _  _  _  _  |\n",
            "| _  _  _  _  | _  _  _  _  |\n",
            "| _  _  _  _  | _  _  _  _  |\n",
            "| _  _  _  _  | _  _  _  _  |\n",
            "| _  _  _  _  | _  _  _  _  |\n",
            "| _  _  _  _  | _  _  _  _  |\n",
            "| _  _  _  _  | _  _  _  _  |\n",
            "| _  _  _  _  | _  _  _  _  |\n",
            "| _  _  _  _  | _  _  _  _  |\n",
            "Board:\n",
            "| 0 0 1 1 | _ _ _ _ |\n",
            "| 2 2 3 3 | o o _ _ |\n",
            "| _  _  _  _  | _  _  _  _  |\n",
            "| _  _  _  _  | _  _  _  _  |\n",
            "| _  _  _  _  | _  _  _  _  |\n",
            "| _  _  _  _  | _  _  _  _  |\n",
            "| _  _  _  _  | _  _  _  _  |\n",
            "| _  _  _  _  | _  _  _  _  |\n",
            "| _  _  _  _  | _  _  _  _  |\n",
            "| _  _  _  _  | _  _  _  _  |\n",
            "Board:\n",
            "| 0 0 1 1 | _ _ _ _ |\n",
            "| 2 2 3 3 | o o _ _ |\n",
            "| 4 4 5 5 | o o _ _ |\n",
            "| _  _  _  _  | _  _  _  _  |\n",
            "| _  _  _  _  | _  _  _  _  |\n",
            "| _  _  _  _  | _  _  _  _  |\n",
            "| _  _  _  _  | _  _  _  _  |\n",
            "| _  _  _  _  | _  _  _  _  |\n",
            "| _  _  _  _  | _  _  _  _  |\n",
            "| _  _  _  _  | _  _  _  _  |\n"
          ],
          "name": "stdout"
        },
        {
          "output_type": "execute_result",
          "data": {
            "text/plain": [
              "(2, 0)"
            ]
          },
          "metadata": {
            "tags": []
          },
          "execution_count": 6
        }
      ]
    },
    {
      "cell_type": "code",
      "metadata": {
        "id": "1oaXQ-YNOXuy",
        "colab": {
          "base_uri": "https://localhost:8080/"
        },
        "outputId": "be1d9526-6b95-43e3-b18e-2380b098baec"
      },
      "source": [
        "g1.guess(4, 2, 3, 5)"
      ],
      "execution_count": 10,
      "outputs": [
        {
          "output_type": "stream",
          "text": [
            "Board:\n",
            "| 0 0 1 1 | _ _ _ _ |\n",
            "| 2 2 3 3 | o o _ _ |\n",
            "| 4 4 5 5 | o o _ _ |\n",
            "| 4 4 3 3 | o o _ _ |\n",
            "| 4 4 3 5 | o o o _ |\n",
            "| 4 3 3 5 | o o o _ |\n",
            "| 4 2 3 5 | o o o o |\n",
            "| _  _  _  _  | _  _  _  _  |\n",
            "| _  _  _  _  | _  _  _  _  |\n",
            "| _  _  _  _  | _  _  _  _  |\n",
            "Congrats you win!\n"
          ],
          "name": "stdout"
        },
        {
          "output_type": "execute_result",
          "data": {
            "text/plain": [
              "(4, 0)"
            ]
          },
          "metadata": {
            "tags": []
          },
          "execution_count": 10
        }
      ]
    },
    {
      "cell_type": "code",
      "metadata": {
        "colab": {
          "base_uri": "https://localhost:8080/"
        },
        "id": "zp9gABJOsZo8",
        "outputId": "71888648-4e37-45d6-cd7b-72193c3e1f2d"
      },
      "source": [
        "g_solve = Game(code=[4, 2, 3, 5])"
      ],
      "execution_count": 11,
      "outputs": [
        {
          "output_type": "stream",
          "text": [
            "Starting new game with 6 colors, 4  pegs, and  10 total guesses allowed\n"
          ],
          "name": "stdout"
        }
      ]
    },
    {
      "cell_type": "code",
      "metadata": {
        "colab": {
          "base_uri": "https://localhost:8080/"
        },
        "id": "guTlMqIoskgY",
        "outputId": "11cfbdab-0d1b-49fe-e764-b5d6d99ea153"
      },
      "source": [
        "s.solve(g_solve)"
      ],
      "execution_count": 12,
      "outputs": [
        {
          "output_type": "stream",
          "text": [
            "Board:\n",
            "| 1 5 2 0 | x x _ _ |\n",
            "| _  _  _  _  | _  _  _  _  |\n",
            "| _  _  _  _  | _  _  _  _  |\n",
            "| _  _  _  _  | _  _  _  _  |\n",
            "| _  _  _  _  | _  _  _  _  |\n",
            "| _  _  _  _  | _  _  _  _  |\n",
            "| _  _  _  _  | _  _  _  _  |\n",
            "| _  _  _  _  | _  _  _  _  |\n",
            "| _  _  _  _  | _  _  _  _  |\n",
            "| _  _  _  _  | _  _  _  _  |\n",
            "Board:\n",
            "| 1 5 2 0 | x x _ _ |\n",
            "| 2 2 0 5 | o o _ _ |\n",
            "| _  _  _  _  | _  _  _  _  |\n",
            "| _  _  _  _  | _  _  _  _  |\n",
            "| _  _  _  _  | _  _  _  _  |\n",
            "| _  _  _  _  | _  _  _  _  |\n",
            "| _  _  _  _  | _  _  _  _  |\n",
            "| _  _  _  _  | _  _  _  _  |\n",
            "| _  _  _  _  | _  _  _  _  |\n",
            "| _  _  _  _  | _  _  _  _  |\n",
            "Board:\n",
            "| 1 5 2 0 | x x _ _ |\n",
            "| 2 2 0 5 | o o _ _ |\n",
            "| 0 2 0 3 | o x _ _ |\n",
            "| _  _  _  _  | _  _  _  _  |\n",
            "| _  _  _  _  | _  _  _  _  |\n",
            "| _  _  _  _  | _  _  _  _  |\n",
            "| _  _  _  _  | _  _  _  _  |\n",
            "| _  _  _  _  | _  _  _  _  |\n",
            "| _  _  _  _  | _  _  _  _  |\n",
            "| _  _  _  _  | _  _  _  _  |\n",
            "Board:\n",
            "| 1 5 2 0 | x x _ _ |\n",
            "| 2 2 0 5 | o o _ _ |\n",
            "| 0 2 0 3 | o x _ _ |\n",
            "| 2 4 0 1 | x x _ _ |\n",
            "| _  _  _  _  | _  _  _  _  |\n",
            "| _  _  _  _  | _  _  _  _  |\n",
            "| _  _  _  _  | _  _  _  _  |\n",
            "| _  _  _  _  | _  _  _  _  |\n",
            "| _  _  _  _  | _  _  _  _  |\n",
            "| _  _  _  _  | _  _  _  _  |\n",
            "Board:\n",
            "| 1 5 2 0 | x x _ _ |\n",
            "| 2 2 0 5 | o o _ _ |\n",
            "| 0 2 0 3 | o x _ _ |\n",
            "| 2 4 0 1 | x x _ _ |\n",
            "| 4 2 3 5 | o o o o |\n",
            "| _  _  _  _  | _  _  _  _  |\n",
            "| _  _  _  _  | _  _  _  _  |\n",
            "| _  _  _  _  | _  _  _  _  |\n",
            "| _  _  _  _  | _  _  _  _  |\n",
            "| _  _  _  _  | _  _  _  _  |\n",
            "Congrats you win!\n",
            "Solved in 5 turns.\n"
          ],
          "name": "stdout"
        },
        {
          "output_type": "execute_result",
          "data": {
            "text/plain": [
              "(True, <__main__.Game at 0x7fbb3deb2208>)"
            ]
          },
          "metadata": {
            "tags": []
          },
          "execution_count": 12
        }
      ]
    },
    {
      "cell_type": "code",
      "metadata": {
        "colab": {
          "base_uri": "https://localhost:8080/"
        },
        "id": "uganP3PismHm",
        "outputId": "26fd1d7d-6b34-441b-eaa4-50ee3c24473b"
      },
      "source": [
        "s.multisolve(10000) #typically gives an average of 4.7"
      ],
      "execution_count": 18,
      "outputs": [
        {
          "output_type": "stream",
          "text": [
            "Won 10000 number of times with an average of:  4.7185 rounds played.\n",
            "The game that took the most guesses was 8 with the code [2, 1, 4, 5]\n",
            "The game that took the least guesses was 1 with the code [2, 2, 1, 0]\n",
            "Lost 0 number of times to these codes: []\n"
          ],
          "name": "stdout"
        },
        {
          "output_type": "execute_result",
          "data": {
            "text/plain": [
              "[]"
            ]
          },
          "metadata": {
            "tags": []
          },
          "execution_count": 18
        }
      ]
    },
    {
      "cell_type": "code",
      "metadata": {
        "colab": {
          "base_uri": "https://localhost:8080/"
        },
        "id": "i0n-g60o40r6",
        "outputId": "16ac2e5e-6dc9-41ff-c9f0-07b9be8a72ac"
      },
      "source": [
        "s.multisolveF([0, 0, 1, 1], 10000) #typically gives a slightly lower average (0.03 consistently) but barely"
      ],
      "execution_count": 19,
      "outputs": [
        {
          "output_type": "stream",
          "text": [
            "Won 10000 number of times with an average of:  4.6749 rounds played.\n",
            "The game that took the most guesses was 8 with the code [5, 4, 5, 2]\n",
            "The game that took the least guesses was 1 with the code [0, 0, 1, 1]\n",
            "Lost 0 number of times to these codes: []\n"
          ],
          "name": "stdout"
        },
        {
          "output_type": "execute_result",
          "data": {
            "text/plain": [
              "[]"
            ]
          },
          "metadata": {
            "tags": []
          },
          "execution_count": 19
        }
      ]
    },
    {
      "cell_type": "code",
      "metadata": {
        "id": "VcIVhLrr4_fJ"
      },
      "source": [
        ""
      ],
      "execution_count": null,
      "outputs": []
    }
  ]
}